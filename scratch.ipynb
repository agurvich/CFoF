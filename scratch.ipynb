{
 "cells": [
  {
   "cell_type": "code",
   "execution_count": 1,
   "metadata": {},
   "outputs": [
    {
     "name": "stderr",
     "output_type": "stream",
     "text": [
      "/software/anaconda2/lib/python2.7/site-packages/h5py/__init__.py:36: FutureWarning: Conversion of the second argument of issubdtype from `float` to `np.floating` is deprecated. In future, it will be treated as `np.float64 == np.dtype(float).type`.\n",
      "  from ._conv import register_converters as _register_converters\n"
     ]
    }
   ],
   "source": [
    "%matplotlib inline \n",
    "%load_ext autoreload\n",
    "%autoreload 2\n",
    "\n",
    "import h5py\n",
    "import sys\n",
    "import getopt\n",
    "import os\n",
    "import random\n",
    "\n",
    "from all_utils import *\n",
    "\n",
    "import matplotlib.pyplot as plt \n",
    "from distinct_colours import get_distinct#,cm_linear,cm_plusmin\n",
    "\n",
    "from readsnap import readsnap\n",
    "\n",
    "import time"
   ]
  },
  {
   "cell_type": "code",
   "execution_count": 2,
   "metadata": {},
   "outputs": [],
   "source": [
    "NSNe=10000\n",
    "\n",
    "## set-up some random positions\n",
    "x,y,z = ((np.random.rand(3,NSNe)-0.5)*15).astype('f')\n",
    "\n",
    "\n",
    "## fixed linking length of .1, for now\n",
    "linkingLengths = np.ones(NSNe,dtype='f')*50.0/NSNe*10.\n",
    "\n",
    "## launch times, fixed at 1 for now\n",
    "launchTimes = np.ones(NSNe,dtype='f')\n",
    "\n",
    "## cooling times \n",
    "coolingTimes = np.ones(NSNe,dtype='f')\n",
    "\n",
    "## ids, just integers now \n",
    "ids = np.arange(NSNe,dtype='f')\n"
   ]
  },
  {
   "cell_type": "code",
   "execution_count": 3,
   "metadata": {},
   "outputs": [],
   "source": [
    "import ctypes\n",
    "\n",
    "class SupernovaCluster(ctypes.Structure):\n",
    "    pass\n",
    "\n",
    "SupernovaCluster._fields_ = [\n",
    "                (\"xs\", ctypes.POINTER(ctypes.c_float)),\n",
    "                (\"ys\", ctypes.POINTER(ctypes.c_float)),\n",
    "                (\"zs\", ctypes.POINTER(ctypes.c_float)),\n",
    "                (\"ids\",ctypes.POINTER(ctypes.c_float)),\n",
    "                (\"linkingLengths\", ctypes.POINTER(ctypes.c_float)),\n",
    "                (\"numNGB\",ctypes.c_int),\n",
    "                (\"cluster_id\",ctypes.c_int),\n",
    "                (\"NextCluster\",ctypes.POINTER(SupernovaCluster))\n",
    "            ]\n",
    "\n",
    "head = SupernovaCluster()"
   ]
  },
  {
   "cell_type": "code",
   "execution_count": 4,
   "metadata": {},
   "outputs": [
    {
     "name": "stdout",
     "output_type": "stream",
     "text": [
      "Executing c code\n",
      "9310 many clusters found\n",
      "0.761038064957 s elapsed\n"
     ]
    }
   ],
   "source": [
    "exec_call = \"/home/abg6257/CFoF/fof_sne.so\"\n",
    "c_obj = ctypes.CDLL(exec_call)\n",
    "\n",
    "h_out_cast=ctypes.c_int\n",
    "H_OUT=h_out_cast()\n",
    "\n",
    "print \"Executing c code\"\n",
    "init_time=time.time()\n",
    "numClusters = c_obj.FoFNGB(\n",
    "    ctypes.c_int(NSNe),\n",
    "    x.ctypes.data_as(ctypes.POINTER(ctypes.c_float)),\n",
    "    y.ctypes.data_as(ctypes.POINTER(ctypes.c_float)),\n",
    "    z.ctypes.data_as(ctypes.POINTER(ctypes.c_float)),\n",
    "\n",
    "    launchTimes.ctypes.data_as(ctypes.POINTER(ctypes.c_float)),\n",
    "    coolingTimes.ctypes.data_as(ctypes.POINTER(ctypes.c_float)),\n",
    "    \n",
    "    linkingLengths.ctypes.data_as(ctypes.POINTER(ctypes.c_float)),\n",
    "    ids.ctypes.data_as(ctypes.POINTER(ctypes.c_float)),\n",
    "\n",
    "    ctypes.byref(head),\n",
    "    ctypes.byref(H_OUT))\n",
    "\n",
    "h=np.ctypeslib.as_array(H_OUT)\n",
    "print numClusters,'many clusters found'\n",
    "print time.time()-init_time,'s elapsed'"
   ]
  },
  {
   "cell_type": "code",
   "execution_count": 5,
   "metadata": {},
   "outputs": [
    {
     "name": "stdout",
     "output_type": "stream",
     "text": [
      "Last one: [6975.]\n",
      "9309 9310\n"
     ]
    }
   ],
   "source": [
    "## skip the empty head node\n",
    "head = head.NextCluster.contents\n",
    "for i in xrange(numClusters):\n",
    "    #print head.numNGB,'|',\n",
    "    #print np.ctypeslib.as_array(head.ids,shape=(head.numNGB,))\n",
    "    try:\n",
    "        if i < (numClusters-1):\n",
    "            head = head.NextCluster.contents\n",
    "    except:\n",
    "        print i,numClusters\n",
    "        raise\n",
    "    \n",
    "print \"Last one:\",\n",
    "print np.ctypeslib.as_array(head.ids,shape=(head.numNGB,))\n",
    "print i,numClusters\n"
   ]
  }
 ],
 "metadata": {
  "kernelspec": {
   "display_name": "Python 2",
   "language": "python",
   "name": "python2"
  },
  "language_info": {
   "codemirror_mode": {
    "name": "ipython",
    "version": 2
   },
   "file_extension": ".py",
   "mimetype": "text/x-python",
   "name": "python",
   "nbconvert_exporter": "python",
   "pygments_lexer": "ipython2",
   "version": "2.7.13"
  }
 },
 "nbformat": 4,
 "nbformat_minor": 2
}
