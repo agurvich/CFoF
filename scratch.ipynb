{
 "cells": [
  {
   "cell_type": "code",
   "execution_count": 9,
   "metadata": {},
   "outputs": [
    {
     "name": "stdout",
     "output_type": "stream",
     "text": [
      "The autoreload extension is already loaded. To reload it, use:\n",
      "  %reload_ext autoreload\n"
     ]
    }
   ],
   "source": [
    "%matplotlib inline \n",
    "%load_ext autoreload\n",
    "%autoreload 2\n",
    "\n",
    "import h5py\n",
    "import sys\n",
    "import getopt\n",
    "import os\n",
    "import random\n",
    "\n",
    "from all_utils import *\n",
    "\n",
    "import matplotlib.pyplot as plt \n",
    "from distinct_colours import get_distinct#,cm_linear,cm_plusmin\n",
    "\n",
    "from readsnap import readsnap\n",
    "\n",
    "import time"
   ]
  },
  {
   "cell_type": "code",
   "execution_count": 22,
   "metadata": {},
   "outputs": [],
   "source": [
    "NSNe=100\n",
    "np.random.seed(516)\n",
    "\n",
    "## set-up some random positions\n",
    "x,y,z = ((np.random.rand(3,NSNe)-0.5)*15).astype('f')\n",
    "\n",
    "\n",
    "## fixed linking length of .1, for now\n",
    "linkingLengths = np.ones(NSNe,dtype='f')*50.0/NSNe*2\n",
    "\n",
    "## launch times, fixed at 1 for now\n",
    "launchTimes = np.ones(NSNe,dtype='f')\n",
    "\n",
    "## cooling times \n",
    "coolingTimes = np.ones(NSNe,dtype='f')\n",
    "\n",
    "## ids, just integers now \n",
    "ids = np.arange(NSNe,dtype='f')\n"
   ]
  },
  {
   "cell_type": "code",
   "execution_count": 23,
   "metadata": {},
   "outputs": [],
   "source": [
    "import ctypes\n",
    "\n",
    "class SupernovaCluster(ctypes.Structure):\n",
    "    pass\n",
    "\n",
    "SupernovaCluster._fields_ = [\n",
    "                (\"xs\", ctypes.POINTER(ctypes.c_float)),\n",
    "                (\"ys\", ctypes.POINTER(ctypes.c_float)),\n",
    "                (\"zs\", ctypes.POINTER(ctypes.c_float)),\n",
    "                (\"ids\",ctypes.POINTER(ctypes.c_float)),\n",
    "                (\"linkingLengths\", ctypes.POINTER(ctypes.c_float)),\n",
    "                (\"numNGB\",ctypes.c_int),\n",
    "                (\"cluster_id\",ctypes.c_int),\n",
    "                (\"NextCluster\",ctypes.POINTER(SupernovaCluster))\n",
    "            ]\n",
    "\n",
    "head = SupernovaCluster()"
   ]
  },
  {
   "cell_type": "code",
   "execution_count": 21,
   "metadata": {},
   "outputs": [
    {
     "name": "stdout",
     "output_type": "stream",
     "text": [
      "Executing c code\n",
      "1 many clusters found\n",
      "0.0441608428955 s elapsed\n"
     ]
    }
   ],
   "source": [
    "exec_call = \"/home/abg6257/CFoF/fof_sne.so\"\n",
    "c_obj = ctypes.CDLL(exec_call)\n",
    "\n",
    "h_out_cast=ctypes.c_int\n",
    "H_OUT=h_out_cast()\n",
    "\n",
    "print \"Executing c code\"\n",
    "init_time=time.time()\n",
    "numClusters = c_obj.FoFNGB(\n",
    "    ctypes.c_int(NSNe),\n",
    "    x.ctypes.data_as(ctypes.POINTER(ctypes.c_float)),\n",
    "    y.ctypes.data_as(ctypes.POINTER(ctypes.c_float)),\n",
    "    z.ctypes.data_as(ctypes.POINTER(ctypes.c_float)),\n",
    "\n",
    "    launchTimes.ctypes.data_as(ctypes.POINTER(ctypes.c_float)),\n",
    "    coolingTimes.ctypes.data_as(ctypes.POINTER(ctypes.c_float)),\n",
    "    \n",
    "    linkingLengths.ctypes.data_as(ctypes.POINTER(ctypes.c_float)),\n",
    "    ids.ctypes.data_as(ctypes.POINTER(ctypes.c_float)),\n",
    "\n",
    "    ctypes.byref(head),\n",
    "    ctypes.byref(H_OUT))\n",
    "\n",
    "h=np.ctypeslib.as_array(H_OUT)\n",
    "print numClusters,'many clusters found'\n",
    "print time.time()-init_time,'s elapsed'\n",
    "## skip the empty head node\n",
    "head = head.NextCluster.contents"
   ]
  },
  {
   "cell_type": "code",
   "execution_count": 5,
   "metadata": {},
   "outputs": [],
   "source": [
    "def extractLinkedListValues(numClusters,head,write_to_file=0):    \n",
    "    ## initialize arrays\n",
    "    numNGBs=[]\n",
    "    masterListIndices=[0]\n",
    "    clusterIDs=[]\n",
    "    keys = np.array(head._fields_)\n",
    "    ## assumes that the final 3 in this list are numNGB,cluster_id,NextCluster (which they are, since I define _fields_ above)\n",
    "    valss = [[] for i in xrange(len(keys)-3)]\n",
    "    \n",
    "    ## loop through links of the linked list and add their values to a single flattened array\n",
    "    for i in xrange(numClusters):\n",
    "        extractSNClusterObjValues(head,keys,valss,numNGBs,masterListIndices,clusterIDs)\n",
    "        ## iterate the linked list\n",
    "        try:\n",
    "            if i < (numClusters-1):\n",
    "                head = head.NextCluster.contents\n",
    "        except:\n",
    "            print i,numClusters\n",
    "            raise\n",
    "            \n",
    "    ## unpack the flattened arrays\n",
    "    flat_xss,flat_yss,flat_zss,flat_idss,flat_llss=valss\n",
    "    if write_to_file:\n",
    "        raise Exception(\"Unimplemented\")\n",
    "        with h5py.File(\"file.hdf5\",'w') as handle:\n",
    "            pass\n",
    "        \n",
    "    ##split the flattened arrays\n",
    "    xss = splitFlattenedArray(flat_xss,masterListIndices)\n",
    "    yss = splitFlattenedArray(flat_yss,masterListIndices)\n",
    "    zss = splitFlattenedArray(flat_zss,masterListIndices)\n",
    "    idss = splitFlattenedArray(flat_idss,masterListIndices)\n",
    "    llss = splitFlattenedArray(flat_llss,masterListIndices)\n",
    "    return xss,yss,zss,idss,llss,np.array(numNGBs),np.array(clusterIDs)\n",
    "    \n",
    "    \n",
    "def splitFlattenedArray(flat_arr,masterListIndices):\n",
    "    return np.split(flat_arr,masterListIndices[1:-1])\n",
    "\n",
    "        \n",
    "def extractSNClusterObjValues(head,keys,valss,numNGBs,masterListIndices,clusterIDs):\n",
    "    for i,(key,val) in enumerate(keys):\n",
    "        if key == 'numNGB':\n",
    "            numNGBs+=[head.numNGB]\n",
    "            masterListIndices+=[masterListIndices[-1]+head.numNGB]\n",
    "        elif key == 'cluster_id':\n",
    "            clusterIDs+=[head.cluster_id]\n",
    "        elif key =='NextCluster':\n",
    "            pass\n",
    "        else:\n",
    "            valss[i]=np.append(valss[i],[np.ctypeslib.as_array(getattr(head,key),shape=(head.numNGB,))])\n",
    "            "
   ]
  },
  {
   "cell_type": "code",
   "execution_count": 6,
   "metadata": {},
   "outputs": [
    {
     "name": "stdout",
     "output_type": "stream",
     "text": [
      "['NextCluster', '__class__', '__ctypes_from_outparam__', '__delattr__', '__dict__', '__doc__', '__format__', '__getattribute__', '__hash__', '__init__', '__module__', '__new__', '__reduce__', '__reduce_ex__', '__repr__', '__setattr__', '__setstate__', '__sizeof__', '__str__', '__subclasshook__', '__weakref__', '_b_base_', '_b_needsfree_', '_fields_', '_objects', 'cluster_id', 'ids', 'linkingLengths', 'numNGB', 'xs', 'ys', 'zs']\n",
      "\n",
      "\n"
     ]
    }
   ],
   "source": [
    "\n",
    "print dir(head)\n",
    "print \n",
    "\n",
    "xss,yss,zss,idss,llss,numNGBs,clusterIDs=extractLinkedListValues(numClusters,head)\n",
    "\n",
    "    #print np.ctypeslib.as_array(getattr(head,key),shape=head.numNGB)\n",
    "\n",
    "    \n",
    "\"\"\"\n",
    "print \"Last one:\",\n",
    "print np.ctypeslib.as_array(head.ids,shape=(head.numNGB,))\n",
    "print i,numClusters\n",
    "\"\"\"\n",
    "print \"\",\n"
   ]
  },
  {
   "cell_type": "code",
   "execution_count": 15,
   "metadata": {},
   "outputs": [
    {
     "name": "stdout",
     "output_type": "stream",
     "text": [
      "4.673490524291992 -1.6172016859054565 5.0\n",
      "1.0018179416656494 1.4155888557434082 5.0\n",
      "4.391674041748047 -3.3405280113220215 5.0\n",
      "5.064104080200195 1.6404060125350952 5.0\n",
      "5.171879291534424 -7.396675109863281 5.0\n",
      "3.12613582611084 3.8718814849853516 5.0\n",
      "[0.         0.94474008 0.19724082 0.57915865 1.34804937 1.4742395 ]\n",
      "[0.94474008 0.         1.37095073 0.69881843 3.8588483  0.794076  ]\n",
      "[0.19724082 1.37095073 0.         1.02281806 0.78440163 2.62175374]\n",
      "[0.57915865 0.69881843 1.02281806 0.         3.45247268 0.99214174]\n",
      "[1.34804937 3.8588483  0.78440163 3.45247268 0.         5.38447696]\n",
      "[1.4742395  0.794076   2.62175374 0.99214174 5.38447696 0.        ]\n",
      "done\n",
      "\n"
     ]
    },
    {
     "data": {
      "image/png": "[encoded data removed]",
      "text/plain": [
       "<matplotlib.figure.Figure at 0x2ac78b8f02d0>"
      ]
     },
     "metadata": {},
     "output_type": "display_data"
    },
    {
     "data": {
      "image/png": "[encoded data removed]",
      "text/plain": [
       "<matplotlib.figure.Figure at 0x2ac78bbb57d0>"
      ]
     },
     "metadata": {},
     "output_type": "display_data"
    }
   ],
   "source": [
    "plt.hist(numNGBs)\n",
    "index = list(np.logical_and(numNGBs>2,numNGBs<10)).index(1)\n",
    "\n",
    "my_coords = np.array([xss[index],yss[index],zss[index]]).T\n",
    "\n",
    "\n",
    "plt.figure()\n",
    "plt.scatter(my_coords[:,0],my_coords[:,1],marker='x')\n",
    "for (x,y,r) in zip(my_coords[:,0],my_coords[:,1],llss[index]):\n",
    "    print x,y,r\n",
    "    plt.gca().add_artist(plt.Circle((x,y),r,ls='--',lw=3,fill=None))\n",
    "plt.axes().set_aspect('equal', 'datalim')\n",
    "\n",
    "\n",
    "for coord in my_coords:\n",
    "    dist = np.sum((my_coords-coord)**2,axis=1)/llss[index]**2\n",
    "    print dist\n",
    "print 'done'\n",
    "print"
   ]
  },
  {
   "cell_type": "code",
   "execution_count": null,
   "metadata": {},
   "outputs": [],
   "source": []
  }
 ],
 "metadata": {
  "kernelspec": {
   "display_name": "Python 2",
   "language": "python",
   "name": "python2"
  },
  "language_info": {
   "codemirror_mode": {
    "name": "ipython",
    "version": 2
   },
   "file_extension": ".py",
   "mimetype": "text/x-python",
   "name": "python",
   "nbconvert_exporter": "python",
   "pygments_lexer": "ipython2",
   "version": "2.7.13"
  }
 },
 "nbformat": 4,
 "nbformat_minor": 2
}
